{
  "cells": [
    {
      "cell_type": "raw",
      "id": "d4369887",
      "metadata": {},
      "source": [
        "---\n",
        "title: EIA API - Data Backfill (Python Version)\n",
        "format:\n",
        "  html:\n",
        "    code-fold: true\n",
        "---"
      ]
    },
    {
      "cell_type": "markdown",
      "id": "ba1d9456",
      "metadata": {},
      "source": [
        "The goal of this doc is to execute an initial data pull of the hourly demand for California balancing authority subregion (CISO). This includes the following four independent system operators:\n",
        "\n",
        "- Pacific Gas and Electric (PGAE)\n",
        "- Southern California Edison (SCE)\n",
        "- San Diego Gas and Electric (SDGE)\n",
        "- Valley Electric Association (VEA)\n",
        "\n",
        "The data backfill process includes the following steps:\n",
        "\n",
        "- Setting parameters and pulling the data\n",
        "- Data quality checks\n",
        "- Saving the data and creating a log file\n",
        "\n",
        "\n",
        "## Load Libraries\n"
      ]
    },
    {
      "cell_type": "code",
      "execution_count": 1,
      "id": "aabc5fc3",
      "metadata": {},
      "outputs": [],
      "source": [
        "import eia_api as api\n",
        "import eia_data \n",
        "import pandas as pd\n",
        "import numpy as np\n",
        "import requests\n",
        "import json\n",
        "import os\n",
        "import datetime\n",
        "import plotly.express as px"
      ]
    },
    {
      "cell_type": "code",
      "execution_count": 2,
      "id": "289a7bea",
      "metadata": {},
      "outputs": [],
      "source": [
        "raw_json = open(\"../metadata/series.json\")\n",
        "meta_json = json.load(raw_json)\n",
        "series = pd.DataFrame(meta_json[\"series\"])\n",
        "api_path = meta_json[\"api_path\"]"
      ]
    },
    {
      "cell_type": "code",
      "execution_count": 3,
      "id": "1f0b084a",
      "metadata": {},
      "outputs": [],
      "source": [
        "facets_template = {\n",
        "  \"parent\" : None,\n",
        "  \"subba\" : None\n",
        "}\n",
        "\n",
        "start = datetime.datetime(2018, 7, 1, 8)\n",
        "end = datetime.datetime(2024, 2, 18, 1)\n",
        "\n",
        "offset = 2250\n",
        "\n",
        "eia_api_key = os.getenv('EIA_API_KEY')\n",
        "\n",
        "meta_path = \"../metadata/ciso_log_py.csv\"\n",
        "data_path = \"../csv/ciso_grid_py.csv\""
      ]
    },
    {
      "cell_type": "code",
      "execution_count": 4,
      "id": "87bad132",
      "metadata": {},
      "outputs": [
        {
          "name": "stdout",
          "output_type": "stream",
          "text": [
            "dict_keys(['id', 'name', 'description', 'frequency', 'facets', 'data', 'startPeriod', 'endPeriod', 'defaultDateFormat', 'defaultFrequency'])\n",
            "2019-01-01T00\n",
            "2024-12-26T08\n"
          ]
        }
      ],
      "source": [
        "metadata = api.eia_metadata(api_key = eia_api_key, api_path = api_path)\n",
        "print(metadata.meta.keys())\n",
        "print(metadata.meta[\"startPeriod\"])\n",
        "print(metadata.meta[\"endPeriod\"])"
      ]
    },
    {
      "cell_type": "code",
      "execution_count": 5,
      "id": "dccd8bad",
      "metadata": {},
      "outputs": [
        {
          "name": "stdout",
          "output_type": "stream",
          "text": [
            "{'parent': 'CISO', 'subba': 'PGAE'}\n"
          ]
        },
        {
          "ename": "KeyError",
          "evalue": "'period'",
          "output_type": "error",
          "traceback": [
            "\u001b[0;31m---------------------------------------------------------------------------\u001b[0m",
            "\u001b[0;31mKeyError\u001b[0m                                  Traceback (most recent call last)",
            "Cell \u001b[0;32mIn[5], line 6\u001b[0m\n\u001b[1;32m      4\u001b[0m facets[\u001b[38;5;124m\"\u001b[39m\u001b[38;5;124msubba\u001b[39m\u001b[38;5;124m\"\u001b[39m] \u001b[38;5;241m=\u001b[39m series\u001b[38;5;241m.\u001b[39mat[i, \u001b[38;5;124m\"\u001b[39m\u001b[38;5;124msubba_id\u001b[39m\u001b[38;5;124m\"\u001b[39m]\n\u001b[1;32m      5\u001b[0m \u001b[38;5;28mprint\u001b[39m(facets)\n\u001b[0;32m----> 6\u001b[0m temp \u001b[38;5;241m=\u001b[39m \u001b[43mapi\u001b[49m\u001b[38;5;241;43m.\u001b[39;49m\u001b[43meia_backfill\u001b[49m\u001b[43m(\u001b[49m\u001b[43mapi_key\u001b[49m\u001b[43m \u001b[49m\u001b[38;5;241;43m=\u001b[39;49m\u001b[43m \u001b[49m\u001b[43meia_api_key\u001b[49m\u001b[43m,\u001b[49m\u001b[43m \u001b[49m\n\u001b[1;32m      7\u001b[0m \u001b[43m      \u001b[49m\u001b[43mapi_path\u001b[49m\u001b[43m \u001b[49m\u001b[38;5;241;43m=\u001b[39;49m\u001b[43m \u001b[49m\u001b[43mapi_path\u001b[49m\u001b[38;5;241;43m+\u001b[39;49m\u001b[43m \u001b[49m\u001b[38;5;124;43m\"\u001b[39;49m\u001b[38;5;124;43mdata\u001b[39;49m\u001b[38;5;124;43m\"\u001b[39;49m\u001b[43m,\u001b[49m\u001b[43m \u001b[49m\n\u001b[1;32m      8\u001b[0m \u001b[43m      \u001b[49m\u001b[43mfacets\u001b[49m\u001b[43m \u001b[49m\u001b[38;5;241;43m=\u001b[39;49m\u001b[43m \u001b[49m\u001b[43mfacets\u001b[49m\u001b[43m,\u001b[49m\u001b[43m \u001b[49m\n\u001b[1;32m      9\u001b[0m \u001b[43m      \u001b[49m\u001b[43mstart\u001b[49m\u001b[43m \u001b[49m\u001b[38;5;241;43m=\u001b[39;49m\u001b[43m \u001b[49m\u001b[43mstart\u001b[49m\u001b[43m,\u001b[49m\n\u001b[1;32m     10\u001b[0m \u001b[43m      \u001b[49m\u001b[43mend\u001b[49m\u001b[43m \u001b[49m\u001b[38;5;241;43m=\u001b[39;49m\u001b[43m \u001b[49m\u001b[43mend\u001b[49m\u001b[43m,\u001b[49m\n\u001b[1;32m     11\u001b[0m \u001b[43m      \u001b[49m\u001b[43moffset\u001b[49m\u001b[43m \u001b[49m\u001b[38;5;241;43m=\u001b[39;49m\u001b[43m \u001b[49m\u001b[43moffset\u001b[49m\u001b[43m)\u001b[49m \n\u001b[1;32m     12\u001b[0m ts_obj \u001b[38;5;241m=\u001b[39m pd\u001b[38;5;241m.\u001b[39mDataFrame(np\u001b[38;5;241m.\u001b[39marange(start \u001b[38;5;241m=\u001b[39m start, stop \u001b[38;5;241m=\u001b[39m end \u001b[38;5;241m+\u001b[39m datetime\u001b[38;5;241m.\u001b[39mtimedelta(hours \u001b[38;5;241m=\u001b[39m \u001b[38;5;241m1\u001b[39m), step \u001b[38;5;241m=\u001b[39m datetime\u001b[38;5;241m.\u001b[39mtimedelta(hours \u001b[38;5;241m=\u001b[39m \u001b[38;5;241m1\u001b[39m))\u001b[38;5;241m.\u001b[39mastype(datetime\u001b[38;5;241m.\u001b[39mdatetime), columns\u001b[38;5;241m=\u001b[39m[\u001b[38;5;124m\"\u001b[39m\u001b[38;5;124mindex\u001b[39m\u001b[38;5;124m\"\u001b[39m])\n\u001b[1;32m     13\u001b[0m ts_obj  \u001b[38;5;241m=\u001b[39m ts_obj\u001b[38;5;241m.\u001b[39mmerge(temp\u001b[38;5;241m.\u001b[39mdata, left_on \u001b[38;5;241m=\u001b[39m \u001b[38;5;124m\"\u001b[39m\u001b[38;5;124mindex\u001b[39m\u001b[38;5;124m\"\u001b[39m, right_on \u001b[38;5;241m=\u001b[39m \u001b[38;5;124m\"\u001b[39m\u001b[38;5;124mperiod\u001b[39m\u001b[38;5;124m\"\u001b[39m, how\u001b[38;5;241m=\u001b[39m\u001b[38;5;124m\"\u001b[39m\u001b[38;5;124mleft\u001b[39m\u001b[38;5;124m\"\u001b[39m)\n",
            "File \u001b[0;32m~/Desktop/learning/linkedin/data-pipeline-automation-with-github-actions-4503382/python/eia_api.py:180\u001b[0m, in \u001b[0;36meia_backfill\u001b[0;34m(start, end, offset, api_key, api_path, facets)\u001b[0m\n\u001b[1;32m    178\u001b[0m \u001b[38;5;28;01melif\u001b[39;00m i \u001b[38;5;241m==\u001b[39m \u001b[38;5;28mlen\u001b[39m(time_vec_seq[:\u001b[38;5;241m-\u001b[39m\u001b[38;5;241m1\u001b[39m]) \u001b[38;5;241m-\u001b[39m \u001b[38;5;241m1\u001b[39m:\n\u001b[1;32m    179\u001b[0m     end \u001b[38;5;241m=\u001b[39m time_vec_seq[i \u001b[38;5;241m+\u001b[39m \u001b[38;5;241m1\u001b[39m]\n\u001b[0;32m--> 180\u001b[0m temp \u001b[38;5;241m=\u001b[39m \u001b[43meia_get\u001b[49m\u001b[43m(\u001b[49m\u001b[43mapi_key\u001b[49m\u001b[43m \u001b[49m\u001b[38;5;241;43m=\u001b[39;49m\u001b[43m \u001b[49m\u001b[43mapi_key\u001b[49m\u001b[43m,\u001b[49m\u001b[43m \u001b[49m\n\u001b[1;32m    181\u001b[0m \u001b[43m               \u001b[49m\u001b[43mapi_path\u001b[49m\u001b[43m \u001b[49m\u001b[38;5;241;43m=\u001b[39;49m\u001b[43m \u001b[49m\u001b[43mapi_path\u001b[49m\u001b[43m,\u001b[49m\u001b[43m \u001b[49m\n\u001b[1;32m    182\u001b[0m \u001b[43m               \u001b[49m\u001b[43mfacets\u001b[49m\u001b[38;5;241;43m=\u001b[39;49m\u001b[43m \u001b[49m\u001b[43mfacets\u001b[49m\u001b[43m,\u001b[49m\u001b[43m \u001b[49m\n\u001b[1;32m    183\u001b[0m \u001b[43m               \u001b[49m\u001b[43mstart\u001b[49m\u001b[43m \u001b[49m\u001b[38;5;241;43m=\u001b[39;49m\u001b[43m \u001b[49m\u001b[43mstart\u001b[49m\u001b[43m,\u001b[49m\n\u001b[1;32m    184\u001b[0m \u001b[43m               \u001b[49m\u001b[43mdata\u001b[49m\u001b[43m \u001b[49m\u001b[38;5;241;43m=\u001b[39;49m\u001b[43m \u001b[49m\u001b[38;5;124;43m\"\u001b[39;49m\u001b[38;5;124;43mvalue\u001b[39;49m\u001b[38;5;124;43m\"\u001b[39;49m\u001b[43m,\u001b[49m\u001b[43m \u001b[49m\n\u001b[1;32m    185\u001b[0m \u001b[43m               \u001b[49m\u001b[43mend\u001b[49m\u001b[43m \u001b[49m\u001b[38;5;241;43m=\u001b[39;49m\u001b[43m \u001b[49m\u001b[43mend\u001b[49m\u001b[43m)\u001b[49m\n\u001b[1;32m    186\u001b[0m \u001b[38;5;28;01mif\u001b[39;00m i \u001b[38;5;241m==\u001b[39m \u001b[38;5;241m0\u001b[39m:\n\u001b[1;32m    187\u001b[0m     df \u001b[38;5;241m=\u001b[39m temp\u001b[38;5;241m.\u001b[39mdata\n",
            "File \u001b[0;32m~/Desktop/learning/linkedin/data-pipeline-automation-with-github-actions-4503382/python/eia_api.py:107\u001b[0m, in \u001b[0;36meia_get\u001b[0;34m(api_key, api_path, data, facets, start, end, length, offset, frequency)\u001b[0m\n\u001b[1;32m    105\u001b[0m df \u001b[38;5;241m=\u001b[39m pd\u001b[38;5;241m.\u001b[39mDataFrame(d[\u001b[38;5;124m'\u001b[39m\u001b[38;5;124mresponse\u001b[39m\u001b[38;5;124m'\u001b[39m][\u001b[38;5;124m'\u001b[39m\u001b[38;5;124mdata\u001b[39m\u001b[38;5;124m'\u001b[39m])\n\u001b[1;32m    106\u001b[0m \u001b[38;5;66;03m# Reformating the output\u001b[39;00m\n\u001b[0;32m--> 107\u001b[0m df[\u001b[38;5;124m\"\u001b[39m\u001b[38;5;124mperiod\u001b[39m\u001b[38;5;124m\"\u001b[39m] \u001b[38;5;241m=\u001b[39m pd\u001b[38;5;241m.\u001b[39mto_datetime(\u001b[43mdf\u001b[49m\u001b[43m[\u001b[49m\u001b[38;5;124;43m\"\u001b[39;49m\u001b[38;5;124;43mperiod\u001b[39;49m\u001b[38;5;124;43m\"\u001b[39;49m\u001b[43m]\u001b[49m)\n\u001b[1;32m    108\u001b[0m df[\u001b[38;5;124m\"\u001b[39m\u001b[38;5;124mvalue\u001b[39m\u001b[38;5;124m\"\u001b[39m] \u001b[38;5;241m=\u001b[39m pd\u001b[38;5;241m.\u001b[39mto_numeric(df[\u001b[38;5;124m\"\u001b[39m\u001b[38;5;124mvalue\u001b[39m\u001b[38;5;124m\"\u001b[39m])\n\u001b[1;32m    109\u001b[0m df \u001b[38;5;241m=\u001b[39m df\u001b[38;5;241m.\u001b[39msort_values(by \u001b[38;5;241m=\u001b[39m [\u001b[38;5;124m\"\u001b[39m\u001b[38;5;124mperiod\u001b[39m\u001b[38;5;124m\"\u001b[39m])\n",
            "File \u001b[0;32m~/Desktop/learning/linkedin/data-pipeline-automation-with-github-actions-4503382/env/lib/python3.11/site-packages/pandas/core/frame.py:4102\u001b[0m, in \u001b[0;36mDataFrame.__getitem__\u001b[0;34m(self, key)\u001b[0m\n\u001b[1;32m   4100\u001b[0m \u001b[38;5;28;01mif\u001b[39;00m \u001b[38;5;28mself\u001b[39m\u001b[38;5;241m.\u001b[39mcolumns\u001b[38;5;241m.\u001b[39mnlevels \u001b[38;5;241m>\u001b[39m \u001b[38;5;241m1\u001b[39m:\n\u001b[1;32m   4101\u001b[0m     \u001b[38;5;28;01mreturn\u001b[39;00m \u001b[38;5;28mself\u001b[39m\u001b[38;5;241m.\u001b[39m_getitem_multilevel(key)\n\u001b[0;32m-> 4102\u001b[0m indexer \u001b[38;5;241m=\u001b[39m \u001b[38;5;28;43mself\u001b[39;49m\u001b[38;5;241;43m.\u001b[39;49m\u001b[43mcolumns\u001b[49m\u001b[38;5;241;43m.\u001b[39;49m\u001b[43mget_loc\u001b[49m\u001b[43m(\u001b[49m\u001b[43mkey\u001b[49m\u001b[43m)\u001b[49m\n\u001b[1;32m   4103\u001b[0m \u001b[38;5;28;01mif\u001b[39;00m is_integer(indexer):\n\u001b[1;32m   4104\u001b[0m     indexer \u001b[38;5;241m=\u001b[39m [indexer]\n",
            "File \u001b[0;32m~/Desktop/learning/linkedin/data-pipeline-automation-with-github-actions-4503382/env/lib/python3.11/site-packages/pandas/core/indexes/range.py:417\u001b[0m, in \u001b[0;36mRangeIndex.get_loc\u001b[0;34m(self, key)\u001b[0m\n\u001b[1;32m    415\u001b[0m         \u001b[38;5;28;01mraise\u001b[39;00m \u001b[38;5;167;01mKeyError\u001b[39;00m(key) \u001b[38;5;28;01mfrom\u001b[39;00m \u001b[38;5;21;01merr\u001b[39;00m\n\u001b[1;32m    416\u001b[0m \u001b[38;5;28;01mif\u001b[39;00m \u001b[38;5;28misinstance\u001b[39m(key, Hashable):\n\u001b[0;32m--> 417\u001b[0m     \u001b[38;5;28;01mraise\u001b[39;00m \u001b[38;5;167;01mKeyError\u001b[39;00m(key)\n\u001b[1;32m    418\u001b[0m \u001b[38;5;28mself\u001b[39m\u001b[38;5;241m.\u001b[39m_check_indexing_error(key)\n\u001b[1;32m    419\u001b[0m \u001b[38;5;28;01mraise\u001b[39;00m \u001b[38;5;167;01mKeyError\u001b[39;00m(key)\n",
            "\u001b[0;31mKeyError\u001b[0m: 'period'"
          ]
        }
      ],
      "source": [
        "for i in series.index:\n",
        "  facets = facets_template\n",
        "  facets[\"parent\"] = series.at[i, \"parent_id\"]\n",
        "  facets[\"subba\"] = series.at[i, \"subba_id\"]\n",
        "  print(facets)\n",
        "  temp = api.eia_backfill(api_key = eia_api_key, \n",
        "        api_path = api_path+ \"data\", \n",
        "        facets = facets, \n",
        "        start = start,\n",
        "        end = end,\n",
        "        offset = offset) \n",
        "  ts_obj = pd.DataFrame(np.arange(start = start, stop = end + datetime.timedelta(hours = 1), step = datetime.timedelta(hours = 1)).astype(datetime.datetime), columns=[\"index\"])\n",
        "  ts_obj  = ts_obj.merge(temp.data, left_on = \"index\", right_on = \"period\", how=\"left\")\n",
        "  ts_obj.drop(\"period\", axis = 1, inplace= True)\n",
        "  ts_obj = ts_obj.rename(columns= {\"index\": \"period\"})\n",
        "\n",
        "  meta_temp = eia_data.create_metadata(data = ts_obj, start = start, end = end, type = \"backfill\")\n",
        "  meta_temp[\"index\"] = 1\n",
        "  meta_df = pd.DataFrame([meta_temp])\n",
        "\n",
        "  if i == series.index.start:\n",
        "    data = ts_obj\n",
        "    meta = meta_df\n",
        "  else:\n",
        "    data = data._append(ts_obj)\n",
        "    meta = meta._append(meta_df)\n"
      ]
    },
    {
      "cell_type": "code",
      "execution_count": null,
      "id": "bc0f8828",
      "metadata": {},
      "outputs": [],
      "source": [
        "print(meta)\n",
        "# The initial pull has some missing values\n",
        "\n",
        "data.head()"
      ]
    },
    {
      "cell_type": "code",
      "execution_count": null,
      "id": "572918f7",
      "metadata": {},
      "outputs": [],
      "source": [
        "# Save the data\n",
        "d = eia_data.append_data(data_path = data_path, new_data = data, init = True, save = True)\n",
        "# Save the metadata\n",
        "meta[\"success\"] = True\n",
        "meta[\"update\"] = True\n",
        "m = eia_data.append_metadata(meta_path = \"../metadata/ciso_log_py.csv\", meta = meta, save = True, init = True)\n",
        "print(m)"
      ]
    },
    {
      "cell_type": "markdown",
      "id": "5122b461",
      "metadata": {},
      "source": [
        "### Plot the Series\n",
        "\n",
        "We will use Plotly to visualize the series:\n"
      ]
    },
    {
      "cell_type": "code",
      "execution_count": null,
      "id": "493d2b41",
      "metadata": {},
      "outputs": [],
      "source": [
        "d = data.sort_values(by = [\"subba\", \"period\"])\n",
        "\n",
        "p = px.line(d, x=\"period\", y=\"value\", color=\"subba\")\n",
        "\n",
        "p.show()"
      ]
    }
  ],
  "metadata": {
    "kernelspec": {
      "display_name": "env",
      "language": "python",
      "name": "python3"
    },
    "language_info": {
      "codemirror_mode": {
        "name": "ipython",
        "version": 3
      },
      "file_extension": ".py",
      "mimetype": "text/x-python",
      "name": "python",
      "nbconvert_exporter": "python",
      "pygments_lexer": "ipython3",
      "version": "3.11.4"
    }
  },
  "nbformat": 4,
  "nbformat_minor": 5
}
